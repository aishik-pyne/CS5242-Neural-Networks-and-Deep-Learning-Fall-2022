{
 "cells": [
  {
   "cell_type": "markdown",
   "metadata": {
    "id": "IjOZXM4o8ARu"
   },
   "source": [
    "# CS5242 HW1: Get started with PyTorch\n",
    "\n",
    "PyTorch is an open source machine learning framework with 58k stars on the [github](https://github.com/pytorch/pytorch). In this code tutorial we will learn the basic of PyTorch.\n",
    "\n",
    "Colab is a hosted Jupyter notebook service that requires no setup to use, while providing access free of charge to computing resources including GPUs. In this semester, we will use Colab to run our experiments."
   ]
  },
  {
   "cell_type": "markdown",
   "metadata": {
    "id": "cjW6lJ2Q81N4"
   },
   "source": [
    "## Section 1: Environmental Setup\n",
    "\n",
    "First, we need to install the PyTorch and check the pytorch version."
   ]
  },
  {
   "cell_type": "code",
   "execution_count": 1,
   "metadata": {
    "colab": {
     "base_uri": "https://localhost:8080/",
     "height": 89
    },
    "id": "QV9aoa5Q0OiH",
    "outputId": "ca64f6bf-4262-4504-ef2b-d0d5a0199a94"
   },
   "outputs": [
    {
     "name": "stdout",
     "output_type": "stream",
     "text": [
      "\u001b[33mDEPRECATION: Configuring installation scheme with distutils config files is deprecated and will no longer work in the near future. If you are using a Homebrew or Linuxbrew Python, please see discussion at https://github.com/Homebrew/homebrew-core/issues/76621\u001b[0m\n",
      "Requirement already satisfied: torch in /opt/homebrew/lib/python3.9/site-packages (1.12.0)\n",
      "Requirement already satisfied: typing-extensions in /opt/homebrew/lib/python3.9/site-packages (from torch) (4.3.0)\n",
      "\u001b[33mWARNING: You are using pip version 21.3.1; however, version 22.2.2 is available.\n",
      "You should consider upgrading via the '/opt/homebrew/opt/python@3.9/bin/python3.9 -m pip install --upgrade pip' command.\u001b[0m\n"
     ]
    },
    {
     "data": {
      "text/plain": [
       "'1.12.0'"
      ]
     },
     "execution_count": 1,
     "metadata": {},
     "output_type": "execute_result"
    }
   ],
   "source": [
    "!pip3 install torch\n",
    "\n",
    "import torch\n",
    "torch.__version__"
   ]
  },
  {
   "cell_type": "markdown",
   "metadata": {
    "id": "tT09jYu-9ecO"
   },
   "source": [
    "Here are some routines for importing and setting up torch."
   ]
  },
  {
   "cell_type": "code",
   "execution_count": 2,
   "metadata": {
    "colab": {
     "base_uri": "https://localhost:8080/"
    },
    "id": "oMPTE7J01v-p",
    "outputId": "7ea33ca2-2e7a-4cb4-eeb7-ba19f078336e"
   },
   "outputs": [
    {
     "data": {
      "text/plain": [
       "<torch._C.Generator at 0x10388e550>"
      ]
     },
     "execution_count": 2,
     "metadata": {},
     "output_type": "execute_result"
    }
   ],
   "source": [
    "# frequently used import\n",
    "import torch\n",
    "import torch.nn as nn\n",
    "import torch.nn.functional as F\n",
    "import numpy as np\n",
    "import random\n",
    "import matplotlib.pyplot as plt\n",
    "\n",
    "# fix the random number so that the experiments are reproducible\n",
    "random.seed(0)\n",
    "np.random.seed(0)\n",
    "torch.manual_seed(0)"
   ]
  },
  {
   "cell_type": "markdown",
   "metadata": {
    "id": "TeVi4BmJ-cI-"
   },
   "source": [
    "The best referrence for pytorch is its [document](https://pytorch.org/docs/stable/index.html). PyTorch is well-known for a good community.\n",
    "\n",
    "Now let's setup the GPU environment. The colab provides a free GPU to use. Do as follows:\n",
    "\n",
    "- Runtime -> Change Runtime Type -> select `GPU` in Hardware accelerator\n",
    "- Click `connect` on the top-right\n",
    "\n",
    "After connecting to one GPU, you can check its status using `nvidia-smi` command."
   ]
  },
  {
   "cell_type": "code",
   "execution_count": null,
   "metadata": {
    "colab": {
     "base_uri": "https://localhost:8080/"
    },
    "id": "Zd4WVQP6-Anp",
    "outputId": "d6db3bac-a081-4029-a5c1-d54b987f58ab"
   },
   "outputs": [
    {
     "name": "stdout",
     "output_type": "stream",
     "text": [
      "Mon Aug 15 08:05:35 2022       \n",
      "+-----------------------------------------------------------------------------+\n",
      "| NVIDIA-SMI 460.32.03    Driver Version: 460.32.03    CUDA Version: 11.2     |\n",
      "|-------------------------------+----------------------+----------------------+\n",
      "| GPU  Name        Persistence-M| Bus-Id        Disp.A | Volatile Uncorr. ECC |\n",
      "| Fan  Temp  Perf  Pwr:Usage/Cap|         Memory-Usage | GPU-Util  Compute M. |\n",
      "|                               |                      |               MIG M. |\n",
      "|===============================+======================+======================|\n",
      "|   0  Tesla T4            Off  | 00000000:00:04.0 Off |                    0 |\n",
      "| N/A   66C    P8    10W /  70W |      0MiB / 15109MiB |      0%      Default |\n",
      "|                               |                      |                  N/A |\n",
      "+-------------------------------+----------------------+----------------------+\n",
      "                                                                               \n",
      "+-----------------------------------------------------------------------------+\n",
      "| Processes:                                                                  |\n",
      "|  GPU   GI   CI        PID   Type   Process name                  GPU Memory |\n",
      "|        ID   ID                                                   Usage      |\n",
      "|=============================================================================|\n",
      "|  No running processes found                                                 |\n",
      "+-----------------------------------------------------------------------------+\n"
     ]
    }
   ],
   "source": [
    "!nvidia-smi"
   ]
  },
  {
   "cell_type": "markdown",
   "metadata": {
    "id": "nVKG11x__bwn"
   },
   "source": [
    "Here, you can see the memory and memory usage of the applied GPU. For my case, the applied one is a Tesla T4. The GPU applied may be different, but it is ok for our experiments.\n",
    "\n",
    "Now let's create tensor, which is the basic element in PyTorch."
   ]
  },
  {
   "cell_type": "code",
   "execution_count": null,
   "metadata": {
    "colab": {
     "base_uri": "https://localhost:8080/"
    },
    "id": "fh8esjGD_Zgk",
    "outputId": "ad675764-eeb0-420b-ee19-b0897830cbc2"
   },
   "outputs": [
    {
     "name": "stdout",
     "output_type": "stream",
     "text": [
      "x1: tensor(1.)\n",
      "x2: tensor(1., device='cuda:0')\n",
      "x3: tensor(1., device='cuda:0', grad_fn=<ToCopyBackward0>)\n"
     ]
    }
   ],
   "source": [
    "x1 = torch.tensor(1.0) # tensor on CPU\n",
    "x2 = torch.tensor(1.0, device=\"cuda:0\") # tensor on GPU\n",
    "x3 = torch.tensor(1.0, requires_grad=True).cuda() # tensor on GPU and require grad\n",
    "print(\"x1:\", x1)\n",
    "print(\"x2:\", x2)\n",
    "print(\"x3:\", x3)"
   ]
  },
  {
   "cell_type": "markdown",
   "metadata": {
    "id": "NjwOgo_9Iw7N"
   },
   "source": [
    "In the following sections, you need to fill in the code to complete the function and answer the questions.\n",
    "\n",
    "The question will be in the form:\n",
    "\n",
    "===> Question: What is deep learning?  \n",
    "===> Answer:  \n",
    "Your answer here.\n",
    "\n",
    "The code completion will be in the form:"
   ]
  },
  {
   "cell_type": "code",
   "execution_count": null,
   "metadata": {
    "id": "YfUaeMpxJTXD"
   },
   "outputs": [],
   "source": [
    "# === Complete the code\n",
    "\n",
    "# === Complete the code"
   ]
  },
  {
   "cell_type": "markdown",
   "metadata": {
    "id": "eiVo1YcIkhE8"
   },
   "source": [
    "Grades: HW1 is composed of two parts and 10 points in all. Each part contains 5 points.  \n",
    "\n",
    "The homework on PDF consists of 10 questions, each is worth 0.5 points. You can write the answer by LaTeX, word or handwritting (take photo) and submit to the system.  \n",
    "\n",
    "The homework here on notebook (colab) consists of several code completions and 5 questions. There are 18 units for code completions (one unit for one line, which is also a hint). And there are 12 units for questions. 30 units in total will share the 5 points. For submission, you need to submit the notebook with output.\n",
    "\n",
    "15% off per day late (17:01 is the start of one day)​\n",
    "\n",
    "0 score if you submit it 7 days after the deadline​\n",
    "\n",
    "Deadline for homework on PDF: 17:00, 22 Aug  \n",
    "Deadline for homework on Notebook: 17:00, 30 Aug"
   ]
  },
  {
   "cell_type": "markdown",
   "metadata": {
    "id": "aQQbaMIPBX_r"
   },
   "source": [
    "## Section 2: Basic Usage"
   ]
  },
  {
   "cell_type": "code",
   "execution_count": 2,
   "metadata": {
    "colab": {
     "base_uri": "https://localhost:8080/"
    },
    "id": "nMrDE_L6Afkx",
    "outputId": "6725fea1-dec8-4258-da3e-7c659440b072"
   },
   "outputs": [
    {
     "name": "stdout",
     "output_type": "stream",
     "text": [
      "tensor(4.)\n",
      "tensor(2.)\n",
      "tensor(2.)\n"
     ]
    }
   ],
   "source": [
    "# 2.1: Use autograd to calculate gradients\n",
    "\n",
    "# Create tensors.\n",
    "x = torch.tensor(1., requires_grad=True)\n",
    "w = torch.tensor(2., requires_grad=True)\n",
    "b = torch.tensor(3., requires_grad=True)\n",
    "y = torch.tensor(4.)\n",
    "\n",
    "# Build a computational graph.\n",
    "pred = w * x + b\n",
    "L = (pred - y)**2\n",
    "\n",
    "# Compute gradients.\n",
    "# === Complete the code (1')\n",
    "\n",
    "# === Complete the code\n",
    "\n",
    "# Print out the gradients.\n",
    "print(x.grad)\n",
    "print(w.grad)\n",
    "print(b.grad)"
   ]
  },
  {
   "cell_type": "markdown",
   "metadata": {
    "id": "ZhnZkwPcJ-EU"
   },
   "source": [
    "===> Question 1: Compute the above gradients on your own and show the result from PyTorch is correct. (2')  \n",
    "===> Answer:"
   ]
  },
  {
   "cell_type": "code",
   "execution_count": 3,
   "metadata": {
    "colab": {
     "base_uri": "https://localhost:8080/"
    },
    "id": "yfGXyGNRIfzk",
    "outputId": "04bf351b-12c5-4512-c077-b090b3073e13"
   },
   "outputs": [
    {
     "name": "stdout",
     "output_type": "stream",
     "text": [
      "tensor(1.9800, requires_grad=True)\n",
      "tensor(2.9800, requires_grad=True)\n",
      "tensor(0.9216, grad_fn=<PowBackward0>)\n"
     ]
    }
   ],
   "source": [
    "# 2.2 update parameters by gradient descent\n",
    "\n",
    "# we want to update parameters w and b\n",
    "lr = 0.01\n",
    "\n",
    "# 1-step gradient descent\n",
    "# === Complete the code (2')\n",
    "\n",
    "\n",
    "# === Complete the code\n",
    "\n",
    "# current loss\n",
    "pred = w * x + b\n",
    "L = (pred - y)**2\n",
    "\n",
    "print(w)\n",
    "print(b)\n",
    "print(L)"
   ]
  },
  {
   "cell_type": "code",
   "execution_count": 4,
   "metadata": {
    "colab": {
     "base_uri": "https://localhost:8080/"
    },
    "id": "BhtTMooZK5gU",
    "outputId": "2f861b2c-3efd-4611-9778-af630be69fb1"
   },
   "outputs": [
    {
     "name": "stdout",
     "output_type": "stream",
     "text": [
      "tensor(1.8914, requires_grad=True)\n",
      "tensor(2.8914, requires_grad=True)\n",
      "tensor(0.6648, grad_fn=<PowBackward0>)\n"
     ]
    }
   ],
   "source": [
    "# 2.3 update parameters by optimizer\n",
    "\n",
    "# Use SGD optimizer\n",
    "optimizer = torch.optim.SGD([w, b], lr=0.01)\n",
    "\n",
    "# 5-step gradient descent.\n",
    "for t in range(5):\n",
    "  pred = w * x + b\n",
    "  L = (pred - y)**2\n",
    "  optimizer.zero_grad()\n",
    "  # === Complete the code (2')\n",
    "\n",
    "\n",
    "  # === Complete the code\n",
    "\n",
    "print(w)\n",
    "print(b)\n",
    "print(L)"
   ]
  },
  {
   "cell_type": "markdown",
   "metadata": {
    "id": "26UwTeMmNZ1v"
   },
   "source": [
    "===> Question 2: Why do we need `optimizer.zero_grad()`? (1') What happens if we do not `zero_grad` in each step? (1')  \n",
    "===> Answer:\n",
    "\n",
    "===> Question 3: What's the meaning of `grad_fn=<PowBackward0>`? (1')  \n",
    "===> Answer:\n"
   ]
  },
  {
   "cell_type": "code",
   "execution_count": null,
   "metadata": {
    "colab": {
     "base_uri": "https://localhost:8080/"
    },
    "id": "4Nfs1aLuK8Dw",
    "outputId": "b7d9cfa3-385f-462c-e302-ac0ec56e75da"
   },
   "outputs": [
    {
     "name": "stdout",
     "output_type": "stream",
     "text": [
      "tensor([[3.3753e+11, 0.0000e+00, 3.3631e-44],\n",
      "        [0.0000e+00,        nan, 6.4460e-44]])\n",
      "tensor([[0, 0, 0],\n",
      "        [0, 0, 0]])\n",
      "tensor([[0.4963, 0.7682, 0.0885],\n",
      "        [0.1320, 0.3074, 0.6341]])\n",
      "tensor([[ 1.2645, -0.6874,  0.1604],\n",
      "        [-0.6065, -0.7831,  1.0622]])\n",
      "tensor([[1, 2],\n",
      "        [3, 4]])\n",
      "[[1 2]\n",
      " [3 4]]\n"
     ]
    }
   ],
   "source": [
    "# 2.4 create tensors\n",
    "\n",
    "shape = (2, 3)\n",
    "\n",
    "# create an empty tensor\n",
    "x = torch.empty(shape)\n",
    "print(x)\n",
    "\n",
    "# create a full-zero tensor with type long\n",
    "# === Complete the code (1')\n",
    "\n",
    "# === Complete the code\n",
    "print(x)\n",
    "\n",
    "# create a a tensor filled with random numbers from \n",
    "# a uniform distribution on the interval [0, 1)\n",
    "# === Complete the code (1')\n",
    "\n",
    "# === Complete the code\n",
    "print(x)\n",
    "\n",
    "# create a tensor filled with random numbers from a standard normal distribution\n",
    "# === Complete the code (1')\n",
    "\n",
    "# === Complete the code\n",
    "print(x)\n",
    "\n",
    "# create a tensor from numpy\n",
    "x = np.array([[1, 2], [3, 4]])\n",
    "# === Complete the code (1')\n",
    "\n",
    "# === Complete the code\n",
    "print(x)\n",
    "\n",
    "# convert a tensor to numpy\n",
    "x = x.numpy()\n",
    "print(x)"
   ]
  },
  {
   "cell_type": "code",
   "execution_count": null,
   "metadata": {
    "colab": {
     "base_uri": "https://localhost:8080/"
    },
    "id": "nsj3pdawPs5o",
    "outputId": "93b21436-2ebe-4841-bf68-11c9e48bba7b"
   },
   "outputs": [
    {
     "name": "stdout",
     "output_type": "stream",
     "text": [
      "w:  Parameter containing:\n",
      "tensor([[ 0.5431,  0.3890, -0.2517],\n",
      "        [-0.1453, -0.5500, -0.0104]], requires_grad=True)\n",
      "b:  Parameter containing:\n",
      "tensor([-0.4348, -0.4453], requires_grad=True)\n",
      "loss:  2.650336503982544\n",
      "dL/dw:  tensor([[ 1.0951,  0.9776, -1.2607],\n",
      "        [ 0.0268, -1.7639, -0.2130]])\n",
      "dL/db:  tensor([-0.3936, -1.1098])\n"
     ]
    }
   ],
   "source": [
    "# 2.5 gradient of matrix and vector\n",
    "\n",
    "# Create tensors of shape (10, 3) and (10, 2).\n",
    "x = torch.randn(10, 3)\n",
    "y = torch.randn(10, 2)\n",
    "\n",
    "# Build a fully connected layer.\n",
    "linear = nn.Linear(3, 2)\n",
    "print ('w: ', linear.weight)\n",
    "print ('b: ', linear.bias)\n",
    "\n",
    "# Build loss function and optimizer.\n",
    "criterion = nn.MSELoss()\n",
    "\n",
    "# Forward pass.\n",
    "pred = linear(x)\n",
    "\n",
    "# Compute loss.\n",
    "# === Complete the code (1')\n",
    "\n",
    "# === Complete the code\n",
    "print('loss: ', loss.item())\n",
    "\n",
    "# Backward pass.\n",
    "loss.backward()\n",
    "\n",
    "# Print out the gradients.\n",
    "# === Complete the code (2')\n",
    "print ('dL/dw: ', ) \n",
    "print ('dL/db: ', )\n",
    "# === Complete the code"
   ]
  },
  {
   "cell_type": "markdown",
   "metadata": {
    "id": "5Jmln-rJUTbq"
   },
   "source": [
    "===> Question 4: What is the function of the above code? Do a shape check for the gradient computation above. (2')  \n",
    "===> Answer:"
   ]
  },
  {
   "cell_type": "markdown",
   "metadata": {
    "id": "gxHzvhMseEQI"
   },
   "source": [
    "## Section 3: Linear Regression\n"
   ]
  },
  {
   "cell_type": "code",
   "execution_count": null,
   "metadata": {
    "id": "2QS90Mv4T03n"
   },
   "outputs": [],
   "source": [
    "# Hyper-parameters\n",
    "input_size = 1\n",
    "output_size = 1\n",
    "\n",
    "# Toy dataset\n",
    "x_train = np.array([[3.2], [4.1], [5.6], [7.69], [6.3], [4.112], \n",
    "                    [9.79], [5.182], [6.59], [3.167], [7.042], \n",
    "                    [10.921], [5.268], [7.9], [3.0]], dtype=np.float32)\n",
    "\n",
    "y_train = np.array([[1.7], [2.76], [2.09], [3.19], [1.694], [1.573], \n",
    "                    [3.366], [2.596], [2.53], [1.221], [2.827], \n",
    "                    [3.465], [1.65], [2.904], [1.3]], dtype=np.float32)"
   ]
  },
  {
   "cell_type": "code",
   "execution_count": null,
   "metadata": {
    "id": "7dhHzTVaePXF"
   },
   "outputs": [],
   "source": [
    "def main(learning_rate=0.001, num_epochs = 60):\n",
    "  # Linear regression model\n",
    "  model = nn.Linear(input_size, output_size)\n",
    "\n",
    "  # Loss and optimizer\n",
    "  criterion = nn.MSELoss()\n",
    "\n",
    "  # Create optimizer\n",
    "  # Hint: check manual for model.parameters\n",
    "  # === Complete the code (1')\n",
    "  optimizer = \n",
    "  # === Complete the code\n",
    "\n",
    "  # Train the model\n",
    "  for epoch in range(num_epochs):\n",
    "      # Convert numpy arrays to torch tensors\n",
    "      inputs = torch.from_numpy(x_train)\n",
    "      targets = torch.from_numpy(y_train)\n",
    "\n",
    "      # Forward pass\n",
    "      # === Complete the code (2')\n",
    "      outputs = \n",
    "      loss = \n",
    "      # === Complete the code\n",
    "      \n",
    "      # Backward and optimize\n",
    "      # === Complete the code (3')\n",
    "\n",
    "\n",
    "\n",
    "      # === Complete the code\n",
    "      \n",
    "      if (epoch+1) % 5 == 0:\n",
    "          print ('Epoch [{}/{}], Loss: {:.4f}'.format(epoch+1, num_epochs, loss.item()))\n",
    "\n",
    "  # Plot the graph\n",
    "  predicted = model(torch.from_numpy(x_train)).detach().numpy()\n",
    "  plt.plot(x_train, y_train, 'ro', label='Original data')\n",
    "  plt.plot(x_train, predicted, label='Fitted line')\n",
    "  plt.legend()\n",
    "  plt.show()"
   ]
  },
  {
   "cell_type": "code",
   "execution_count": null,
   "metadata": {
    "colab": {
     "base_uri": "https://localhost:8080/",
     "height": 479
    },
    "id": "ACWgdcIWeU01",
    "outputId": "ea512388-e6cc-4579-8e0c-97dca4851dcb"
   },
   "outputs": [
    {
     "name": "stdout",
     "output_type": "stream",
     "text": [
      "Epoch [5/60], Loss: 3.5557\n",
      "Epoch [10/60], Loss: 1.5880\n",
      "Epoch [15/60], Loss: 0.7714\n",
      "Epoch [20/60], Loss: 0.4324\n",
      "Epoch [25/60], Loss: 0.2917\n",
      "Epoch [30/60], Loss: 0.2333\n",
      "Epoch [35/60], Loss: 0.2090\n",
      "Epoch [40/60], Loss: 0.1988\n",
      "Epoch [45/60], Loss: 0.1946\n",
      "Epoch [50/60], Loss: 0.1928\n",
      "Epoch [55/60], Loss: 0.1920\n",
      "Epoch [60/60], Loss: 0.1916\n"
     ]
    },
    {
     "data": {
      "image/png": "[encoded data removed]",
      "text/plain": [
       "<Figure size 432x288 with 1 Axes>"
      ]
     },
     "metadata": {
      "needs_background": "light"
     },
     "output_type": "display_data"
    }
   ],
   "source": [
    "main()"
   ]
  },
  {
   "cell_type": "markdown",
   "metadata": {
    "id": "6wWicEaIfYMJ"
   },
   "source": [
    "Now let's investigate into how learning rate affects the training process.\n",
    "\n",
    "===> Question 5: Experiments with different learning rates and num_epochs.   \n",
    "When will the training diverges? What's your suggested value for the learning rate?   \n",
    "Justify your answer by running more experiments (leaving the results in the notebook). (5')     \n",
    "===> Answer:"
   ]
  },
  {
   "cell_type": "code",
   "execution_count": null,
   "metadata": {
    "colab": {
     "base_uri": "https://localhost:8080/",
     "height": 479
    },
    "id": "d31POxIKeaQV",
    "outputId": "eecaaeef-cc64-4f31-a342-9f268e876f4d"
   },
   "outputs": [
    {
     "name": "stdout",
     "output_type": "stream",
     "text": [
      "Epoch [5/60], Loss: 45786146671689728.0000\n",
      "Epoch [10/60], Loss: 726791150639377388894590512748560384.0000\n",
      "Epoch [15/60], Loss: inf\n",
      "Epoch [20/60], Loss: inf\n",
      "Epoch [25/60], Loss: nan\n",
      "Epoch [30/60], Loss: nan\n",
      "Epoch [35/60], Loss: nan\n",
      "Epoch [40/60], Loss: nan\n",
      "Epoch [45/60], Loss: nan\n",
      "Epoch [50/60], Loss: nan\n",
      "Epoch [55/60], Loss: nan\n",
      "Epoch [60/60], Loss: nan\n"
     ]
    },
    {
     "data": {
      "image/png": "[encoded data removed]",
      "text/plain": [
       "<Figure size 432x288 with 1 Axes>"
      ]
     },
     "metadata": {
      "needs_background": "light"
     },
     "output_type": "display_data"
    }
   ],
   "source": [
    "main(learning_rate=1, num_epochs = 60)"
   ]
  },
  {
   "cell_type": "code",
   "execution_count": null,
   "metadata": {
    "id": "rDxFC0ZzhM2_"
   },
   "outputs": [],
   "source": []
  }
 ],
 "metadata": {
  "accelerator": "GPU",
  "colab": {
   "collapsed_sections": [],
   "name": "CS5242_HW1.ipynb",
   "provenance": []
  },
  "gpuClass": "standard",
  "kernelspec": {
   "display_name": "Python 3 (ipykernel)",
   "language": "python",
   "name": "python3"
  },
  "language_info": {
   "codemirror_mode": {
    "name": "ipython",
    "version": 3
   },
   "file_extension": ".py",
   "mimetype": "text/x-python",
   "name": "python",
   "nbconvert_exporter": "python",
   "pygments_lexer": "ipython3",
   "version": "3.9.9"
  }
 },
 "nbformat": 4,
 "nbformat_minor": 1
}
